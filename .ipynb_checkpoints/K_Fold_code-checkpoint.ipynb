{
 "cells": [
  {
   "cell_type": "code",
   "execution_count": 101,
   "id": "bf3ebfaf",
   "metadata": {},
   "outputs": [],
   "source": [
    "# !pip install imblearn"
   ]
  },
  {
   "cell_type": "code",
   "execution_count": 102,
   "id": "08ad8060",
   "metadata": {},
   "outputs": [],
   "source": [
    "# !pip install sklearn"
   ]
  },
  {
   "cell_type": "code",
   "execution_count": 103,
   "id": "a472fb85",
   "metadata": {},
   "outputs": [],
   "source": [
    "import pandas as pd\n",
    "import numpy as np\n",
    "from sklearn.model_selection import train_test_split\n",
    "from sklearn import datasets\n",
    "from sklearn import svm\n",
    "from sklearn.model_selection import cross_val_score\n",
    "from sklearn import metrics\n",
    "from sklearn.model_selection import cross_validate\n",
    "from sklearn.model_selection import KFold, cross_val_score"
   ]
  },
  {
   "cell_type": "code",
   "execution_count": 104,
   "id": "313efb2a",
   "metadata": {},
   "outputs": [
    {
     "data": {
      "text/html": [
       "<div>\n",
       "<style scoped>\n",
       "    .dataframe tbody tr th:only-of-type {\n",
       "        vertical-align: middle;\n",
       "    }\n",
       "\n",
       "    .dataframe tbody tr th {\n",
       "        vertical-align: top;\n",
       "    }\n",
       "\n",
       "    .dataframe thead th {\n",
       "        text-align: right;\n",
       "    }\n",
       "</style>\n",
       "<table border=\"1\" class=\"dataframe\">\n",
       "  <thead>\n",
       "    <tr style=\"text-align: right;\">\n",
       "      <th></th>\n",
       "      <th>erythema</th>\n",
       "      <th>caling</th>\n",
       "      <th>definite_borders</th>\n",
       "      <th>itching</th>\n",
       "      <th>koebner_phenomenon</th>\n",
       "      <th>polygonal_papules</th>\n",
       "      <th>follicular_papules</th>\n",
       "      <th>oral_mucosal_involvement</th>\n",
       "      <th>knee_and_elbow_involvement</th>\n",
       "      <th>scalp_involvement</th>\n",
       "      <th>...</th>\n",
       "      <th>disappearance_ofthe_granular_layer</th>\n",
       "      <th>_vacuolisation_anddamage_ofbasallayer</th>\n",
       "      <th>spongiosis</th>\n",
       "      <th>saw-tooth_appearance_ofretes</th>\n",
       "      <th>follicular_hornplug</th>\n",
       "      <th>perifollicular_parakeratosis</th>\n",
       "      <th>inflammatory_monoluclear_inflitrate</th>\n",
       "      <th>band-like_infiltrate</th>\n",
       "      <th>Age</th>\n",
       "      <th>Disease</th>\n",
       "    </tr>\n",
       "  </thead>\n",
       "  <tbody>\n",
       "    <tr>\n",
       "      <th>0</th>\n",
       "      <td>2</td>\n",
       "      <td>2</td>\n",
       "      <td>0</td>\n",
       "      <td>3</td>\n",
       "      <td>0</td>\n",
       "      <td>0</td>\n",
       "      <td>0</td>\n",
       "      <td>0</td>\n",
       "      <td>1</td>\n",
       "      <td>0</td>\n",
       "      <td>...</td>\n",
       "      <td>0</td>\n",
       "      <td>0</td>\n",
       "      <td>3</td>\n",
       "      <td>0</td>\n",
       "      <td>0</td>\n",
       "      <td>0</td>\n",
       "      <td>1</td>\n",
       "      <td>0</td>\n",
       "      <td>55</td>\n",
       "      <td>2</td>\n",
       "    </tr>\n",
       "    <tr>\n",
       "      <th>1</th>\n",
       "      <td>3</td>\n",
       "      <td>3</td>\n",
       "      <td>3</td>\n",
       "      <td>2</td>\n",
       "      <td>1</td>\n",
       "      <td>0</td>\n",
       "      <td>0</td>\n",
       "      <td>0</td>\n",
       "      <td>1</td>\n",
       "      <td>1</td>\n",
       "      <td>...</td>\n",
       "      <td>0</td>\n",
       "      <td>0</td>\n",
       "      <td>0</td>\n",
       "      <td>0</td>\n",
       "      <td>0</td>\n",
       "      <td>0</td>\n",
       "      <td>1</td>\n",
       "      <td>0</td>\n",
       "      <td>8</td>\n",
       "      <td>1</td>\n",
       "    </tr>\n",
       "    <tr>\n",
       "      <th>2</th>\n",
       "      <td>2</td>\n",
       "      <td>1</td>\n",
       "      <td>2</td>\n",
       "      <td>3</td>\n",
       "      <td>1</td>\n",
       "      <td>3</td>\n",
       "      <td>0</td>\n",
       "      <td>3</td>\n",
       "      <td>0</td>\n",
       "      <td>0</td>\n",
       "      <td>...</td>\n",
       "      <td>0</td>\n",
       "      <td>2</td>\n",
       "      <td>3</td>\n",
       "      <td>2</td>\n",
       "      <td>0</td>\n",
       "      <td>0</td>\n",
       "      <td>2</td>\n",
       "      <td>3</td>\n",
       "      <td>26</td>\n",
       "      <td>3</td>\n",
       "    </tr>\n",
       "    <tr>\n",
       "      <th>3</th>\n",
       "      <td>2</td>\n",
       "      <td>2</td>\n",
       "      <td>2</td>\n",
       "      <td>0</td>\n",
       "      <td>0</td>\n",
       "      <td>0</td>\n",
       "      <td>0</td>\n",
       "      <td>0</td>\n",
       "      <td>3</td>\n",
       "      <td>2</td>\n",
       "      <td>...</td>\n",
       "      <td>3</td>\n",
       "      <td>0</td>\n",
       "      <td>0</td>\n",
       "      <td>0</td>\n",
       "      <td>0</td>\n",
       "      <td>0</td>\n",
       "      <td>3</td>\n",
       "      <td>0</td>\n",
       "      <td>40</td>\n",
       "      <td>1</td>\n",
       "    </tr>\n",
       "    <tr>\n",
       "      <th>4</th>\n",
       "      <td>2</td>\n",
       "      <td>3</td>\n",
       "      <td>2</td>\n",
       "      <td>2</td>\n",
       "      <td>2</td>\n",
       "      <td>2</td>\n",
       "      <td>0</td>\n",
       "      <td>2</td>\n",
       "      <td>0</td>\n",
       "      <td>0</td>\n",
       "      <td>...</td>\n",
       "      <td>2</td>\n",
       "      <td>3</td>\n",
       "      <td>2</td>\n",
       "      <td>3</td>\n",
       "      <td>0</td>\n",
       "      <td>0</td>\n",
       "      <td>2</td>\n",
       "      <td>3</td>\n",
       "      <td>45</td>\n",
       "      <td>3</td>\n",
       "    </tr>\n",
       "  </tbody>\n",
       "</table>\n",
       "<p>5 rows × 35 columns</p>\n",
       "</div>"
      ],
      "text/plain": [
       "   erythema  caling  definite_borders  itching  koebner_phenomenon  \\\n",
       "0         2       2                 0        3                   0   \n",
       "1         3       3                 3        2                   1   \n",
       "2         2       1                 2        3                   1   \n",
       "3         2       2                 2        0                   0   \n",
       "4         2       3                 2        2                   2   \n",
       "\n",
       "   polygonal_papules  follicular_papules  oral_mucosal_involvement  \\\n",
       "0                  0                   0                         0   \n",
       "1                  0                   0                         0   \n",
       "2                  3                   0                         3   \n",
       "3                  0                   0                         0   \n",
       "4                  2                   0                         2   \n",
       "\n",
       "   knee_and_elbow_involvement  scalp_involvement  ...  \\\n",
       "0                           1                  0  ...   \n",
       "1                           1                  1  ...   \n",
       "2                           0                  0  ...   \n",
       "3                           3                  2  ...   \n",
       "4                           0                  0  ...   \n",
       "\n",
       "   disappearance_ofthe_granular_layer  _vacuolisation_anddamage_ofbasallayer  \\\n",
       "0                                   0                                      0   \n",
       "1                                   0                                      0   \n",
       "2                                   0                                      2   \n",
       "3                                   3                                      0   \n",
       "4                                   2                                      3   \n",
       "\n",
       "   spongiosis  saw-tooth_appearance_ofretes  follicular_hornplug  \\\n",
       "0           3                             0                    0   \n",
       "1           0                             0                    0   \n",
       "2           3                             2                    0   \n",
       "3           0                             0                    0   \n",
       "4           2                             3                    0   \n",
       "\n",
       "   perifollicular_parakeratosis  inflammatory_monoluclear_inflitrate  \\\n",
       "0                             0                                    1   \n",
       "1                             0                                    1   \n",
       "2                             0                                    2   \n",
       "3                             0                                    3   \n",
       "4                             0                                    2   \n",
       "\n",
       "   band-like_infiltrate  Age  Disease  \n",
       "0                     0   55        2  \n",
       "1                     0    8        1  \n",
       "2                     3   26        3  \n",
       "3                     0   40        1  \n",
       "4                     3   45        3  \n",
       "\n",
       "[5 rows x 35 columns]"
      ]
     },
     "execution_count": 104,
     "metadata": {},
     "output_type": "execute_result"
    }
   ],
   "source": [
    "df = pd.read_csv('dermatology.csv')\n",
    "df.head()"
   ]
  },
  {
   "cell_type": "code",
   "execution_count": 105,
   "id": "6362f585",
   "metadata": {},
   "outputs": [
    {
     "data": {
      "text/plain": [
       "erythema                                    int64\n",
       "caling                                      int64\n",
       "definite_borders                            int64\n",
       "itching                                     int64\n",
       "koebner_phenomenon                          int64\n",
       "polygonal_papules                           int64\n",
       "follicular_papules                          int64\n",
       "oral_mucosal_involvement                    int64\n",
       "knee_and_elbow_involvement                  int64\n",
       "scalp_involvement                           int64\n",
       "family_history                              int64\n",
       "melanin_incontinence                        int64\n",
       "eosinophils_inthe_infiltrate                int64\n",
       "PNL_infiltrate                              int64\n",
       "fibrosis_ofthe_papillary_dermis             int64\n",
       "exocytosis                                  int64\n",
       "acanthosis                                  int64\n",
       "hyperkeratosis                              int64\n",
       "parakeratosis                               int64\n",
       "clubbing_ofthe_rete_ridges                  int64\n",
       "elongation_ofthe_rete_ridges                int64\n",
       "thinning_ofthe_suprapapillary_epidermis     int64\n",
       "spongiform_pustule                          int64\n",
       "munro_microabcess                           int64\n",
       "25_focal_hypergranulosis                    int64\n",
       "disappearance_ofthe_granular_layer          int64\n",
       "_vacuolisation_anddamage_ofbasallayer       int64\n",
       "spongiosis                                  int64\n",
       "saw-tooth_appearance_ofretes                int64\n",
       "follicular_hornplug                         int64\n",
       "perifollicular_parakeratosis                int64\n",
       "inflammatory_monoluclear_inflitrate         int64\n",
       "band-like_infiltrate                        int64\n",
       "Age                                        object\n",
       "Disease                                     int64\n",
       "dtype: object"
      ]
     },
     "execution_count": 105,
     "metadata": {},
     "output_type": "execute_result"
    }
   ],
   "source": [
    "df.dtypes"
   ]
  },
  {
   "cell_type": "code",
   "execution_count": 106,
   "id": "8d862a30",
   "metadata": {},
   "outputs": [
    {
     "data": {
      "text/plain": [
       "erythema                                   int64\n",
       "caling                                     int64\n",
       "definite_borders                           int64\n",
       "itching                                    int64\n",
       "koebner_phenomenon                         int64\n",
       "polygonal_papules                          int64\n",
       "follicular_papules                         int64\n",
       "oral_mucosal_involvement                   int64\n",
       "knee_and_elbow_involvement                 int64\n",
       "scalp_involvement                          int64\n",
       "family_history                             int64\n",
       "melanin_incontinence                       int64\n",
       "eosinophils_inthe_infiltrate               int64\n",
       "PNL_infiltrate                             int64\n",
       "fibrosis_ofthe_papillary_dermis            int64\n",
       "exocytosis                                 int64\n",
       "acanthosis                                 int64\n",
       "hyperkeratosis                             int64\n",
       "parakeratosis                              int64\n",
       "clubbing_ofthe_rete_ridges                 int64\n",
       "elongation_ofthe_rete_ridges               int64\n",
       "thinning_ofthe_suprapapillary_epidermis    int64\n",
       "spongiform_pustule                         int64\n",
       "munro_microabcess                          int64\n",
       "25_focal_hypergranulosis                   int64\n",
       "disappearance_ofthe_granular_layer         int64\n",
       "_vacuolisation_anddamage_ofbasallayer      int64\n",
       "spongiosis                                 int64\n",
       "saw-tooth_appearance_ofretes               int64\n",
       "follicular_hornplug                        int64\n",
       "perifollicular_parakeratosis               int64\n",
       "inflammatory_monoluclear_inflitrate        int64\n",
       "band-like_infiltrate                       int64\n",
       "Age                                        int32\n",
       "Disease                                    int64\n",
       "dtype: object"
      ]
     },
     "execution_count": 106,
     "metadata": {},
     "output_type": "execute_result"
    }
   ],
   "source": [
    "# Ubah age dari object ke int\n",
    "df = df[pd.to_numeric(df['Age'], errors='coerce').notnull()]\n",
    "df['Age'] = df['Age'].astype('int')\n",
    "df.dtypes"
   ]
  },
  {
   "cell_type": "code",
   "execution_count": 107,
   "id": "15123be1",
   "metadata": {},
   "outputs": [
    {
     "data": {
      "text/plain": [
       "erythema                                   0\n",
       "caling                                     0\n",
       "definite_borders                           0\n",
       "itching                                    0\n",
       "koebner_phenomenon                         0\n",
       "polygonal_papules                          0\n",
       "follicular_papules                         0\n",
       "oral_mucosal_involvement                   0\n",
       "knee_and_elbow_involvement                 0\n",
       "scalp_involvement                          0\n",
       "family_history                             0\n",
       "melanin_incontinence                       0\n",
       "eosinophils_inthe_infiltrate               0\n",
       "PNL_infiltrate                             0\n",
       "fibrosis_ofthe_papillary_dermis            0\n",
       "exocytosis                                 0\n",
       "acanthosis                                 0\n",
       "hyperkeratosis                             0\n",
       "parakeratosis                              0\n",
       "clubbing_ofthe_rete_ridges                 0\n",
       "elongation_ofthe_rete_ridges               0\n",
       "thinning_ofthe_suprapapillary_epidermis    0\n",
       "spongiform_pustule                         0\n",
       "munro_microabcess                          0\n",
       "25_focal_hypergranulosis                   0\n",
       "disappearance_ofthe_granular_layer         0\n",
       "_vacuolisation_anddamage_ofbasallayer      0\n",
       "spongiosis                                 0\n",
       "saw-tooth_appearance_ofretes               0\n",
       "follicular_hornplug                        0\n",
       "perifollicular_parakeratosis               0\n",
       "inflammatory_monoluclear_inflitrate        0\n",
       "band-like_infiltrate                       0\n",
       "Age                                        0\n",
       "Disease                                    0\n",
       "dtype: int64"
      ]
     },
     "execution_count": 107,
     "metadata": {},
     "output_type": "execute_result"
    }
   ],
   "source": [
    "df.isna().sum()"
   ]
  },
  {
   "cell_type": "code",
   "execution_count": 108,
   "id": "323b2c07",
   "metadata": {},
   "outputs": [
    {
     "data": {
      "text/plain": [
       "Disease\n",
       "1    111\n",
       "2     60\n",
       "3     71\n",
       "4     48\n",
       "5     48\n",
       "6     20\n",
       "dtype: int64"
      ]
     },
     "execution_count": 108,
     "metadata": {},
     "output_type": "execute_result"
    }
   ],
   "source": [
    "df.groupby('Disease').size()"
   ]
  },
  {
   "cell_type": "code",
   "execution_count": 109,
   "id": "9c65c7f0",
   "metadata": {},
   "outputs": [],
   "source": [
    "X = df.drop(['Disease'],axis=1)\n",
    "y = df.Disease\n",
    "from sklearn.preprocessing import StandardScaler\n",
    "scaler = StandardScaler()\n",
    "scaler.fit(X)\n",
    "X = scaler.transform(X)"
   ]
  },
  {
   "cell_type": "code",
   "execution_count": 110,
   "id": "419450e7",
   "metadata": {},
   "outputs": [],
   "source": [
    "from sklearn.model_selection import train_test_split\n",
    "X_train,X_test,y_train,y_test =  train_test_split(X, y,random_state = 100)\n",
    "\n",
    "from imblearn.over_sampling import SMOTE\n",
    "sm = SMOTE(random_state=0)\n",
    "x_sm,y_sm = sm.fit_resample(X_train, y_train)"
   ]
  },
  {
   "cell_type": "code",
   "execution_count": 111,
   "id": "9e85e5b9",
   "metadata": {},
   "outputs": [
    {
     "name": "stdout",
     "output_type": "stream",
     "text": [
      "Cross Validation Scores:  [0.97222222 0.98611111 1.         0.97183099 0.97183099]\n",
      "Average CV Score:  0.980399061032864\n",
      "Number of CV Scores used in Average:  5\n"
     ]
    }
   ],
   "source": [
    "from sklearn.svm import SVC\n",
    "clf = SVC(kernel='linear', gamma=0.7, C=10)\n",
    "clf.fit(X_train, y_train)\n",
    "from sklearn.model_selection import KFold, cross_val_score\n",
    "k_folds = KFold(n_splits = 5)\n",
    "\n",
    "scores = cross_val_score(clf, X, y, cv = k_folds)\n",
    "\n",
    "print(\"Cross Validation Scores: \", scores)\n",
    "print(\"Average CV Score: \", scores.mean())\n",
    "print(\"Number of CV Scores used in Average: \", len(scores))"
   ]
  },
  {
   "cell_type": "code",
   "execution_count": 112,
   "id": "d86e7aa6",
   "metadata": {},
   "outputs": [
    {
     "name": "stdout",
     "output_type": "stream",
     "text": [
      "              precision    recall  f1-score   support\n",
      "\n",
      "           1       1.00      1.00      1.00        26\n",
      "           2       1.00      0.93      0.96        14\n",
      "           3       1.00      1.00      1.00        20\n",
      "           4       0.86      1.00      0.92         6\n",
      "           5       1.00      1.00      1.00        18\n",
      "           6       1.00      1.00      1.00         6\n",
      "\n",
      "    accuracy                           0.99        90\n",
      "   macro avg       0.98      0.99      0.98        90\n",
      "weighted avg       0.99      0.99      0.99        90\n",
      "\n"
     ]
    }
   ],
   "source": [
    "from sklearn.metrics import classification_report\n",
    "from sklearn.metrics import accuracy_score\n",
    "y_test_pred = clf.predict(X_test)\n",
    "print(classification_report(y_test, y_test_pred))"
   ]
  },
  {
   "cell_type": "code",
   "execution_count": 113,
   "id": "a7140775",
   "metadata": {},
   "outputs": [
    {
     "name": "stdout",
     "output_type": "stream",
     "text": [
      "Cross Validation Scores:  [0.97222222 0.95833333 0.98611111 0.95774648 0.97183099]\n",
      "Average CV Score:  0.96924882629108\n",
      "Number of CV Scores used in Average:  5\n"
     ]
    }
   ],
   "source": [
    "from sklearn.svm import LinearSVC\n",
    "model_l1 = LinearSVC(penalty='l1', loss='squared_hinge', dual=False, tol = 1e-3)\n",
    "model_l2 = LinearSVC(penalty='l2', loss='squared_hinge', dual=True, tol = 1e-3)\n",
    "model_l1.fit(x_sm, y_sm)\n",
    "model_l2.fit(x_sm, y_sm)\n",
    "scores = cross_val_score(model_l1, X, y, cv = k_folds)\n",
    "\n",
    "print(\"Cross Validation Scores: \", scores)\n",
    "print(\"Average CV Score: \", scores.mean())\n",
    "print(\"Number of CV Scores used in Average: \", len(scores))"
   ]
  },
  {
   "cell_type": "code",
   "execution_count": 114,
   "id": "866e8ee6",
   "metadata": {},
   "outputs": [
    {
     "name": "stdout",
     "output_type": "stream",
     "text": [
      "              precision    recall  f1-score   support\n",
      "\n",
      "           1       1.00      1.00      1.00        26\n",
      "           2       1.00      0.93      0.96        14\n",
      "           3       1.00      1.00      1.00        20\n",
      "           4       0.86      1.00      0.92         6\n",
      "           5       1.00      1.00      1.00        18\n",
      "           6       1.00      1.00      1.00         6\n",
      "\n",
      "    accuracy                           0.99        90\n",
      "   macro avg       0.98      0.99      0.98        90\n",
      "weighted avg       0.99      0.99      0.99        90\n",
      "\n"
     ]
    }
   ],
   "source": [
    "from sklearn.metrics import classification_report\n",
    "from sklearn.metrics import accuracy_score\n",
    "y_test_pred = model_l1.predict(X_test)\n",
    "print(classification_report(y_test, y_test_pred))"
   ]
  }
 ],
 "metadata": {
  "kernelspec": {
   "display_name": "Python 3 (ipykernel)",
   "language": "python",
   "name": "python3"
  },
  "language_info": {
   "codemirror_mode": {
    "name": "ipython",
    "version": 3
   },
   "file_extension": ".py",
   "mimetype": "text/x-python",
   "name": "python",
   "nbconvert_exporter": "python",
   "pygments_lexer": "ipython3",
   "version": "3.10.13"
  }
 },
 "nbformat": 4,
 "nbformat_minor": 5
}
