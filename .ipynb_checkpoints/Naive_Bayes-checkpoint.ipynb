{
  "cells": [
    {
      "cell_type": "code",
      "execution_count": null,
      "metadata": {
        "id": "tZqU59g9pOcg"
      },
      "outputs": [],
      "source": [
        "import pandas as pd\n",
        "from sklearn.svm import SVC\n",
        "from sklearn.model_selection import train_test_split\n",
        "from sklearn.metrics import accuracy_score\n",
        "import numpy as np\n",
        "import seaborn as sns\n",
        "import matplotlib.pyplot as plt\n",
        "import warnings\n",
        "from sklearn.naive_bayes import GaussianNB\n",
        "from sklearn.naive_bayes import BernoulliNB\n",
        "from sklearn.naive_bayes import CategoricalNB\n",
        "from sklearn.neighbors import KNeighborsClassifier"
      ]
    },
    {
      "cell_type": "code",
      "execution_count": null,
      "metadata": {
        "id": "v9xqN1yHpUhZ"
      },
      "outputs": [],
      "source": [
        "warnings.filterwarnings(\"ignore\")\n",
        "\n",
        "from google.colab import drive\n",
        "drive.mount('/content/gdrive')\n",
        "\n",
        "from google.colab import drive\n",
        "drive.mount('/content/drive')"
      ]
    },
    {
      "cell_type": "code",
      "execution_count": null,
      "metadata": {
        "id": "kveE4uexpZ0J"
      },
      "outputs": [],
      "source": [
        "path = 'dermatology.csv'\n",
        "df = pd.read_csv(path)\n",
        "\n",
        "df.head()"
      ]
    },
    {
      "cell_type": "code",
      "execution_count": null,
      "metadata": {
        "id": "Xfs-Rl4ipfTv"
      },
      "outputs": [],
      "source": [
        "df.info()\n",
        "print (df.shape)\n",
        "\n"
      ]
    },
    {
      "cell_type": "code",
      "execution_count": null,
      "metadata": {
        "id": "jdiQ5iKoplFI"
      },
      "outputs": [],
      "source": [
        "df = df[pd.to_numeric(df['Age'], errors='coerce').notnull()]\n",
        "df['Age'] = df['Age'].astype('int')\n",
        "df.dtypes"
      ]
    },
    {
      "cell_type": "code",
      "execution_count": null,
      "metadata": {
        "id": "WRo6aE7apnO5"
      },
      "outputs": [],
      "source": [
        "psoriasis = df[df['Disease']==1]\n",
        "seboreic_dermatitis = df[df['Disease']==2]\n",
        "lichen_planus = df[df['Disease']==3]\n",
        "pityriasis_rosea = df[df['Disease']==4]\n",
        "cronic_dermatitis = df[df['Disease']==5]\n",
        "pityriasis_rubra_pilaris = df[df['Disease']==6]"
      ]
    },
    {
      "cell_type": "code",
      "execution_count": null,
      "metadata": {
        "id": "vM2OR9xkppVn"
      },
      "outputs": [],
      "source": [
        "X = df.drop(['Disease'],1)\n",
        "y = df.Disease"
      ]
    },
    {
      "cell_type": "code",
      "execution_count": null,
      "metadata": {
        "id": "uObdQUXTpsvf"
      },
      "outputs": [],
      "source": [
        "from sklearn.model_selection import train_test_split\n",
        "X_train,X_test,y_train,y_test =  train_test_split(X, y,random_state = 100)\n",
        "\n",
        "from imblearn.over_sampling import SMOTE\n",
        "sm = SMOTE(random_state=0)\n",
        "x_sm,y_sm = sm.fit_resample(X_train, y_train)"
      ]
    },
    {
      "cell_type": "code",
      "execution_count": null,
      "metadata": {
        "id": "dNGT2h8spu0A"
      },
      "outputs": [],
      "source": [
        "clf = CategoricalNB()\n",
        "clf.fit(x_sm, y_sm)"
      ]
    },
    {
      "cell_type": "code",
      "execution_count": null,
      "metadata": {
        "id": "QosAMTnlpwdX"
      },
      "outputs": [],
      "source": [
        "from sklearn.metrics import classification_report\n",
        "from sklearn.metrics import accuracy_score\n",
        "y_test_pred = clf.predict(X_test)\n",
        "print(classification_report(y_test, y_test_pred))"
      ]
    }
  ],
  "metadata": {
    "colab": {
      "provenance": []
    },
    "kernelspec": {
      "display_name": "Python 3",
      "name": "python3"
    },
    "language_info": {
      "name": "python"
    }
  },
  "nbformat": 4,
  "nbformat_minor": 0
}
